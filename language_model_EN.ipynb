{
 "cells": [
  {
   "cell_type": "markdown",
   "id": "e30626a2",
   "metadata": {},
   "source": [
    "# NLP Lab: Language Models\n",
    "\n",
    "In this lab, we will build the main components of the GPT-2 model and train a small model on poems by Victor Hugo.\n",
    "\n",
    "The questions are included in this notebook. To run the training, you will need to modify the `gpt_single_head.py` file, which is also available in the Git repository.\n",
    "\n",
    "## Data\n",
    "\n",
    "The training data consists of a collection of poems by Victor Hugo, sourced from [gutenberg.org](https://www.gutenberg.org/). The dataset is available in the `data` directory.\n",
    "\n",
    "To reduce model complexity, we will model the text at the character level. Typically, language models process sequences of subwords using [tokenizers](https://huggingface.co/docs/transformers/tokenizer_summary) such as BPE, SentencePiece, or WordPiece.\n",
    "\n",
    "#### Questions:\n",
    "- Using [collections.Counter](https://docs.python.org/3/library/collections.html#collections.Counter), display the number of unique characters in the text and the frequency of each character."
   ]
  },
  {
   "cell_type": "code",
   "execution_count": 2,
   "id": "af9790ce-2d70-41ae-bb3b-9aa6c32659ca",
   "metadata": {},
   "outputs": [],
   "source": [
    "import torch"
   ]
  },
  {
   "cell_type": "code",
   "execution_count": 3,
   "id": "d8a1ddc1-6f1b-4c11-a5e6-3321c32bf1f7",
   "metadata": {},
   "outputs": [],
   "source": [
    "device = torch.device(\"cuda\" if torch.cuda.is_available() else \"cpu\")"
   ]
  },
  {
   "cell_type": "code",
   "execution_count": 6,
   "id": "b4d4ab91",
   "metadata": {},
   "outputs": [
    {
     "name": "stdout",
     "output_type": "stream",
     "text": [
      "Number of characters in the file: 285222\n",
      "Number of character in counter: 285222\n",
      "101 different characters\n",
      "Counter({' ': 49127, 'e': 30253, 's': 17987, 'u': 14254, 'r': 14223, 't': 14071, 'a': 14048, 'n': 13725, 'i': 12828, 'o': 12653, 'l': 11638, '\\n': 8102, 'm': 6495, 'd': 6375, ',': 6077, 'c': 5074, 'p': 4206, \"'\": 3820, 'v': 3492, 'é': 2943, 'b': 2783, 'f': 2772, 'h': 2221, 'q': 1956, 'g': 1790, '.': 1420, 'x': 1154, 'L': 1147, '!': 1121, 'E': 1074, ';': 1043, '-': 1020, 'j': 890, 'D': 764, 'è': 725, 'à': 706, 'y': 660, 'I': 627, 'ê': 605, 'C': 593, 'S': 545, 'A': 530, 'Q': 503, 'z': 482, 'J': 471, 'O': 450, 'T': 441, 'P': 435, '?': 388, 'V': 383, 'â': 381, 'N': 362, 'M': 344, 'ù': 298, ':': 294, 'R': 240, 'î': 214, 'U': 208, 'ô': 159, 'X': 150, '1': 146, 'H': 116, 'F': 114, '5': 111, '8': 93, 'B': 78, '«': 74, 'É': 70, '»': 69, 'G': 67, '4': 64, 'û': 62, '3': 47, 'ç': 34, 'À': 33, 'ë': 32, 'ï': 31, '2': 30, '·': 26, 'Ê': 24, '6': 23, '7': 23, 'Ô': 19, '9': 19, 'È': 11, 'k': 10, '0': 10, '_': 8, 'Z': 7, 'Æ': 4, '[': 4, ']': 4, 'w': 3, 'K': 3, 'Y': 3, 'Ë': 2, '(': 2, ')': 2, 'Â': 2, 'Î': 1, 'W': 1})\n"
     ]
    }
   ],
   "source": [
    "import collections\n",
    "\n",
    "with open('data/hugo_contemplations.txt', 'r', encoding='utf-8') as f:\n",
    "    text = f.read()\n",
    "\n",
    "print(f'Number of characters in the file: {len(text)}')\n",
    "##  YOUR CODE HERE\n",
    "counter = collections.Counter()\n",
    "for cara in text:\n",
    "    counter[cara] += 1\n",
    "    \n",
    "\n",
    "###\n",
    "chars = counter.keys()\n",
    "\n",
    "print (f'Number of character in counter: {sum(counter.values())}')\n",
    "print (f'{len(chars)} different characters')\n",
    "print (counter)\n"
   ]
  },
  {
   "cell_type": "markdown",
   "id": "d80b661f",
   "metadata": {},
   "source": [
    "### Encoding / Decoding  \n",
    "\n",
    "To transform the text into a vector for the neural network, each character must be encoded as an integer.  \n",
    "\n",
    "The following functions perform the encoding and decoding of characters:"
   ]
  },
  {
   "cell_type": "code",
   "execution_count": 7,
   "id": "8d9c974d",
   "metadata": {},
   "outputs": [],
   "source": [
    "# create a mapping from characters to integers\n",
    "stoi = { ch:i for i,ch in enumerate(chars) }\n",
    "itos = { i:ch for i,ch in enumerate(chars) }\n",
    "encode = lambda s: [stoi[c] for c in s] # encoder: transform a string into a list of integers\n",
    "decode = lambda l: ''.join([itos[i] for i in l]) # decoder: transform a list of integers into a string\n",
    "\n",
    "\n",
    "# test that your encoder/decoder is coherent\n",
    "testString = \"\\nDemain, dès l'aube\"\n",
    "assert decode(encode (testString)) ==  testString"
   ]
  },
  {
   "cell_type": "markdown",
   "id": "bf2a633d",
   "metadata": {},
   "source": [
    "### Train/Validation Split  \n",
    "\n",
    "Since the goal is to predict poems, the lines should not be shuffled randomly. Instead, we must preserve the order of the lines in the text and take only the first 90% for training, while using the remaining 10% to monitor learning.  \n",
    "\n",
    "#### Questions:  \n",
    "- Split the data into `train_data` (90%) and `val_data` (10%) using slicing on the dataset."
   ]
  },
  {
   "cell_type": "code",
   "execution_count": 135,
   "id": "bf5b7420",
   "metadata": {},
   "outputs": [],
   "source": [
    "import torch\n",
    "# Train and validation splits\n",
    "data = torch.tensor(encode(text), dtype=torch.long)\n",
    "## YOUR CODE HERE\n",
    "# first 90% will be train, rest val\n",
    "train_data = data[:int(data.shape[0]*0.9)]\n",
    "val_data = data[train_data.shape[0]:]\n",
    "###"
   ]
  },
  {
   "cell_type": "markdown",
   "id": "aa498280",
   "metadata": {},
   "source": [
    "### Context  \n",
    "\n",
    "The language model has a parameter that defines the maximum context size to consider when predicting the next character. This context is called `block_size`. The training data consists of sequences of consecutive characters, randomly sampled from the training set, with a length of `block_size`.  \n",
    "\n",
    "If the starting character of the sequence is `i`, then the context sequence is:  \n",
    "```python\n",
    "x = data[i:i+block_size]\n",
    "```\n",
    "And the target value to predict at each position in the context is the next character:  \n",
    "```python\n",
    "y = data[i+1:i+block_size+1]\n",
    "```\n",
    "\n"
   ]
  },
  {
   "cell_type": "code",
   "execution_count": 136,
   "id": "97a262bf",
   "metadata": {},
   "outputs": [
    {
     "name": "stdout",
     "output_type": "stream",
     "text": [
      "tensor([94619])\n",
      "context is >a< target is >i<\n",
      "context is >ai< target is > <\n",
      "context is >ai < target is >d<\n",
      "context is >ai d< target is >a<\n",
      "context is >ai da< target is >n<\n",
      "context is >ai dan< target is >s<\n",
      "context is >ai dans< target is > <\n",
      "context is >ai dans < target is >l<\n"
     ]
    }
   ],
   "source": [
    "block_size = 8\n",
    "\n",
    "i  = torch.randint(len(data) - block_size, (1,))\n",
    "print (i)\n",
    "x = train_data[i:i+block_size]\n",
    "y = train_data[i+1:i+1+block_size]\n",
    "\n",
    "for t in range(block_size):\n",
    "    context = x[:t+1]\n",
    "    target = y[t]\n",
    "    print (f'context is >{decode(context.tolist())}< target is >{decode([target.tolist()])}<')"
   ]
  },
  {
   "cell_type": "code",
   "execution_count": 137,
   "id": "9e7a1a59-cfc8-46bd-9c70-20bd314c144e",
   "metadata": {},
   "outputs": [
    {
     "data": {
      "text/plain": [
       "tensor([52, 29, 14, 37, 52, 30, 43, 14])"
      ]
     },
     "execution_count": 137,
     "metadata": {},
     "output_type": "execute_result"
    }
   ],
   "source": [
    "x"
   ]
  },
  {
   "cell_type": "markdown",
   "id": "0de81464",
   "metadata": {},
   "source": [
    "### Defining Batches  \n",
    "\n",
    "The training batches consist of multiple character sequences randomly sampled from `train_data`. To randomly select a sequence for the batch, we need to randomly pick a starting point in `train_data` and extract the following `block_size` characters. When selecting the starting point, ensure that there are enough characters remaining after it to form a full sequence of `block_size` characters.  \n",
    "\n",
    "#### Questions:  \n",
    "- Create the batches `x` by selecting `batch_size` sequences of length `block_size` starting from a randomly chosen index `i`. Stack the examples using `torch.stack`.  \n",
    "- Create the batches `y` by adding the next character following each sequence in `x`. Stack the examples using `torch.stack`.\n"
   ]
  },
  {
   "cell_type": "code",
   "execution_count": 138,
   "id": "a5386be8-a2b3-4026-9ae1-13a3db39c6c6",
   "metadata": {},
   "outputs": [
    {
     "data": {
      "text/plain": [
       "tensor([0, 1, 2, 3, 4, 5, 6, 7, 1, 8])"
      ]
     },
     "execution_count": 138,
     "metadata": {},
     "output_type": "execute_result"
    }
   ],
   "source": [
    "train_data[0:10]"
   ]
  },
  {
   "cell_type": "code",
   "execution_count": 139,
   "id": "9be91965",
   "metadata": {},
   "outputs": [],
   "source": [
    "batch_size = 4\n",
    "torch.manual_seed(2023)\n",
    "# data loading\n",
    "def get_batch(split):\n",
    "    # generate a small batch of data of inputs x and targets y\n",
    "    data = train_data if split == 'train' else val_data\n",
    "    ## YOUR CODE HERE\n",
    "    # select batch_size starting points in the data, store them in a list called starting_points\n",
    "    starting_points = list(torch.randint(high=len(data) - block_size, size=(batch_size,)))\n",
    "        \n",
    "    # x is the sequence of integer starting at each starting point and of length block_size\n",
    "    x = torch.zeros(1,block_size)\n",
    "    y = torch.zeros(1,block_size)\n",
    "    for i in range(batch_size):\n",
    "        temp_x = train_data[int(starting_points[i]):int(starting_points[i])+block_size].reshape(1,block_size)\n",
    "        temp_y = train_data[int(starting_points[i])+1:int(starting_points[i])+1+block_size].reshape(1,block_size)\n",
    "        #x = torch.squeeze(x,1)\n",
    "        x = torch.vstack((x,temp_x))\n",
    "        y = torch.vstack((y,temp_y))\n",
    "    ###correct bc shapes are shitty\n",
    "    # y is the character after each starting position\n",
    "    x = x[1:,:]\n",
    "    y = y[1:,:]\n",
    "    ### \n",
    "    # send data and target to device\n",
    "    x, y = x.to(device), y.to(device)\n",
    "    return x, y"
   ]
  },
  {
   "cell_type": "code",
   "execution_count": 140,
   "id": "2b0b5a3f-4100-4364-8554-234bd92eb441",
   "metadata": {},
   "outputs": [
    {
     "data": {
      "text/plain": [
       "(tensor([[35., 14., 37., 35., 32., 29., 53., 65.],\n",
       "         [39., 32., 44., 14., 53., 52., 14., 44.],\n",
       "         [32., 50., 62., 35., 43., 42.,  3., 14.],\n",
       "         [44., 43., 14., 53., 35., 43., 14., 57.]], device='cuda:0'),\n",
       " tensor([[14., 37., 35., 32., 29., 53., 65.,  3.],\n",
       "         [32., 44., 14., 53., 52., 14., 44., 35.],\n",
       "         [50., 62., 35., 43., 42.,  3., 14., 14.],\n",
       "         [43., 14., 53., 35., 43., 14., 57., 53.]], device='cuda:0'))"
      ]
     },
     "execution_count": 140,
     "metadata": {},
     "output_type": "execute_result"
    }
   ],
   "source": [
    "get_batch(split='train')"
   ]
  },
  {
   "cell_type": "code",
   "execution_count": 141,
   "id": "6371ed1d-8b41-4823-9cac-972b78630ce1",
   "metadata": {},
   "outputs": [],
   "source": [
    "test_x, test_y = get_batch(split='train')"
   ]
  },
  {
   "cell_type": "markdown",
   "id": "6507313b",
   "metadata": {},
   "source": [
    "### First Model: A Bigram Model  \n",
    "\n",
    "The first model we will implement is a bigram model. It predicts the next character based only on the current character. This model can be stored in a simple matrix: for each character (row), we store the probability distribution over all possible next characters (columns). This can be implemented using a simple [`Embedding`](https://pytorch.org/docs/stable/generated/torch.nn.Embedding.html) layer in PyTorch.  \n",
    "\n",
    "#### Questions:  \n",
    "- In the constructor, define an Embedding layer of size `vocab_size × vocab_size`.  \n",
    "- In the `forward` method, apply the embedding layer to the batch of indices (`x`).  \n",
    "- In the `forward` method, define the loss as `cross_entropy` between the predictions and the target (`y`).\n"
   ]
  },
  {
   "cell_type": "code",
   "execution_count": 142,
   "id": "401d8fb1-9a6c-452b-8ed3-b9c16d716377",
   "metadata": {},
   "outputs": [],
   "source": [
    "vocab_size = 101"
   ]
  },
  {
   "cell_type": "code",
   "execution_count": 143,
   "id": "9b7a7478",
   "metadata": {},
   "outputs": [],
   "source": [
    "import torch.nn as nn\n",
    "\n",
    "# use a gpu if we have one\n",
    "device = 'cuda' if torch.cuda.is_available() else 'cpu'\n",
    "\n",
    "# Simple bigram model\n",
    "class BigramLanguageModel(nn.Module):\n",
    "\n",
    "    def __init__(self, vocab_size):\n",
    "        super().__init__()\n",
    "        # we use a simple vocab_size times vocab_size tensor to store the probabilities \n",
    "        # of each token given a single token as context in nn.Embedding\n",
    "        # YOUR CODE HERE\n",
    "        self.embedding = nn.Embedding(vocab_size, vocab_size)\n",
    "        self.cross_entropy = nn.CrossEntropyLoss()\n",
    "\n",
    "        ## \n",
    "        \n",
    "    def forward(self, idx, targets=None):\n",
    "\n",
    "        # idx and targets are both (Batch,Time) tensor of integers\n",
    "        # YOUR CODE HERE\n",
    "        #print(self.embedding())\n",
    "        idx = idx.clone().detach().long().to(device)\n",
    "        #idx = torch.tensor(data=idx,dtype=torch.int)\n",
    "        logits = self.embedding(idx)\n",
    "        #print('logits : ', logits, '\\n',\n",
    "        #     'size : ', logits.shape)\n",
    "        ## \n",
    "   \n",
    "        # don't compute loss if we don't have targets\n",
    "        if targets is None:\n",
    "            loss = None\n",
    "        else:\n",
    "            # change the shape of the logits and target to match what is needed for CrossEntropyLoss\n",
    "            # https://pytorch.org/docs/stable/generated/torch.nn.CrossEntropyLoss.html\n",
    "            Batch, Time, Channels = logits.shape\n",
    "            #print('batch : ', Batch, 'Time : ', Time, 'Channels : ', Channels)\n",
    "            logits = logits.view(Batch*Time, Channels)\n",
    "            targets = targets.view(Batch*Time)\n",
    "            logits = logits.float().to(device)#.requires_grad_(requires_grad=True)\n",
    "            targets = targets.long().to(device)#.requires_grad_(requires_grad=True)\n",
    "            # negative log likelihood between prediction and target\n",
    "            # YOUR CODE HERE\n",
    "            loss =  self.cross_entropy(logits, targets)\n",
    "            \n",
    "\n",
    "            ## \n",
    "\n",
    "        return logits, loss\n",
    "\n",
    "    def generate(self, idx, max_new_tokens):\n",
    "        # idx is (B, T) array of indices in the current context\n",
    "        for _ in range(max_new_tokens):\n",
    "            # get the predictions\n",
    "            logits, loss = self(idx)\n",
    "            # focus only on the last time step\n",
    "            logits = logits[:, -1, :] # becomes (B, C)\n",
    "            # apply softmax to get probabilities\n",
    "            probs = nn.functional.softmax(logits, dim=-1) # (B, C)\n",
    "            # sample from the distribution\n",
    "            idx_next = torch.multinomial(probs, num_samples=1) # (B, 1)\n",
    "            # append sampled index to the running sequence\n",
    "            idx = torch.cat((idx, idx_next), dim=1) # (B, T+1)\n",
    "        return idx\n",
    "\n",
    "model = BigramLanguageModel(vocab_size)\n",
    "# send the model to device\n",
    "m = model.to(device)"
   ]
  },
  {
   "cell_type": "markdown",
   "id": "f0e3cffb",
   "metadata": {},
   "source": [
    "### Model Before Training  \n",
    "\n",
    "At this stage, the model has not yet been trained—it has only been initialized. However, we can already compute the loss on a random batch. Since the weights are initialized with a normal distribution \\( N(0,1) \\) for each dimension, the expected loss after initialization should be close to `-ln(1/vocab_size)`, as the entropy is maximal."
   ]
  },
  {
   "cell_type": "code",
   "execution_count": 144,
   "id": "ab398442-de6b-4883-bf33-b86f2b6ae655",
   "metadata": {},
   "outputs": [],
   "source": [
    "#m(xb)[0].shape"
   ]
  },
  {
   "cell_type": "code",
   "execution_count": 145,
   "id": "09d51bb5-9a1d-42ed-b1e1-0f95b7d34c1b",
   "metadata": {},
   "outputs": [],
   "source": [
    "#yb"
   ]
  },
  {
   "cell_type": "code",
   "execution_count": 146,
   "id": "62343cbc",
   "metadata": {},
   "outputs": [],
   "source": [
    "import math\n",
    "xb, yb = get_batch('train')\n",
    "logits, loss = m(xb, yb)\n",
    "#print (logits.shape)\n",
    "#print (f'Expected loss {-math.log(1.0/vocab_size)}')\n",
    "#print (f'Computed loss {loss}')"
   ]
  },
  {
   "cell_type": "markdown",
   "id": "d0d44b50",
   "metadata": {},
   "source": [
    "### Using the Model for Prediction  \n",
    "\n",
    "To use the model for prediction, we need to provide an initial character to start the sequence—this is called the prompt. In our case, we can initialize the generation with the newline character (`\\n`) to start a new sentence.  \n",
    "\n",
    "#### Questions:  \n",
    "- Create a prompt as a tensor of size `(1,1)` containing the integer corresponding to the character `\\n`.  \n",
    "- Generate a sequence of 100 characters from this prompt using the functions `m.generate` and `decode`.  \n",
    "- How does the generated sentence look?"
   ]
  },
  {
   "cell_type": "code",
   "execution_count": 147,
   "id": "320d3ead",
   "metadata": {},
   "outputs": [
    {
     "name": "stdout",
     "output_type": "stream",
     "text": [
      "[3]\n"
     ]
    }
   ],
   "source": [
    "print(encode(['\\n']))\n",
    "## YOUR CODE HERE\n",
    "input_test = torch.tensor(encode(['\\n'])[0]).view(1,1).to(device)\n",
    "generated = m.generate(input_test,max_new_tokens=100)\n",
    "generated = generated.tolist()\n",
    "generated = generated[0]\n",
    "decoded = decode(generated)\n",
    "###"
   ]
  },
  {
   "cell_type": "code",
   "execution_count": 148,
   "id": "7fac508f-ff6d-4ec8-8ee4-ee4792c55eb0",
   "metadata": {},
   "outputs": [
    {
     "data": {
      "text/plain": [
       "\"\\nHbHn'lkbïËçv0ÂIHbHyuR,,MYIXïIXMôëa0cPQ7W5uT0çÎgQUnXzoYlS ëYéoB:n1:îèV«OlhFZ(KÊ'[bbb[]hYl;KaBJsûdûI_ë\""
      ]
     },
     "execution_count": 148,
     "metadata": {},
     "output_type": "execute_result"
    }
   ],
   "source": [
    "decoded"
   ]
  },
  {
   "cell_type": "markdown",
   "id": "3630d8c3",
   "metadata": {},
   "source": [
    "### Training  \n",
    "\n",
    "For training, we use the [AdamW](https://pytorch.org/docs/stable/generated/torch.optim.AdamW.html) optimizer with a learning rate of `1e-3`. Each training iteration consists of the following steps:  \n",
    "\n",
    "- Generate a batch  \n",
    "- Apply the neural network (forward pass) and compute the loss: `model(xb, yb)`  \n",
    "- Compute the gradient (after resetting accumulated gradients): `loss.backward()`  \n",
    "- Update the parameters: `optimizer.step()`  "
   ]
  },
  {
   "cell_type": "code",
   "execution_count": 157,
   "id": "05831b58",
   "metadata": {},
   "outputs": [
    {
     "name": "stdout",
     "output_type": "stream",
     "text": [
      "step 0: train loss 5.2866, val loss 5.2094\n",
      "step 1000: train loss 4.3931, val loss 4.3226\n",
      "step 2000: train loss 3.7566, val loss 3.7631\n",
      "step 3000: train loss 3.3674, val loss 3.3223\n",
      "step 4000: train loss 3.1393, val loss 2.9766\n",
      "step 5000: train loss 2.8584, val loss 2.8757\n",
      "step 6000: train loss 2.6994, val loss 2.6025\n",
      "step 7000: train loss 2.5940, val loss 2.6067\n",
      "step 8000: train loss 2.5657, val loss 2.5152\n",
      "step 9000: train loss 2.4569, val loss 2.4284\n",
      "step 10000: train loss 2.5468, val loss 2.5742\n",
      "step 11000: train loss 2.4437, val loss 2.4841\n",
      "step 12000: train loss 2.4446, val loss 2.5261\n",
      "step 13000: train loss 2.4524, val loss 2.4095\n",
      "step 14000: train loss 2.3866, val loss 2.4224\n",
      "step 15000: train loss 2.3807, val loss 2.4035\n",
      "step 16000: train loss 2.4115, val loss 2.3368\n",
      "step 17000: train loss 2.3858, val loss 2.4394\n",
      "step 18000: train loss 2.4133, val loss 2.4124\n",
      "step 19000: train loss 2.4417, val loss 2.3874\n",
      "step 20000: train loss 2.4356, val loss 2.4011\n",
      "step 21000: train loss 2.3609, val loss 2.3837\n",
      "step 22000: train loss 2.4337, val loss 2.3857\n",
      "step 23000: train loss 2.3433, val loss 2.3531\n",
      "step 24000: train loss 2.3272, val loss 2.3801\n",
      "step 25000: train loss 2.4736, val loss 2.3238\n",
      "step 26000: train loss 2.3634, val loss 2.3865\n",
      "step 27000: train loss 2.3514, val loss 2.3329\n",
      "step 28000: train loss 2.3962, val loss 2.3712\n",
      "step 29000: train loss 2.4724, val loss 2.3498\n",
      "step 30000: train loss 2.3767, val loss 2.3599\n",
      "step 31000: train loss 2.4400, val loss 2.3191\n",
      "step 32000: train loss 2.3940, val loss 2.4321\n",
      "step 33000: train loss 2.3296, val loss 2.4398\n",
      "step 34000: train loss 2.3436, val loss 2.3514\n",
      "step 35000: train loss 2.3753, val loss 2.3870\n",
      "step 36000: train loss 2.4036, val loss 2.4121\n",
      "step 37000: train loss 2.3803, val loss 2.3558\n",
      "step 38000: train loss 2.3722, val loss 2.3718\n",
      "step 39000: train loss 2.4385, val loss 2.4050\n",
      "step 40000: train loss 2.2913, val loss 2.3508\n",
      "step 41000: train loss 2.3188, val loss 2.3418\n",
      "step 42000: train loss 2.4020, val loss 2.3567\n",
      "step 43000: train loss 2.3947, val loss 2.3212\n",
      "step 44000: train loss 2.3675, val loss 2.3445\n",
      "step 45000: train loss 2.4585, val loss 2.4545\n",
      "step 46000: train loss 2.3788, val loss 2.3845\n",
      "step 47000: train loss 2.3657, val loss 2.3687\n",
      "step 48000: train loss 2.4067, val loss 2.3431\n",
      "step 49000: train loss 2.3274, val loss 2.3266\n"
     ]
    }
   ],
   "source": [
    "max_iters = 50000\n",
    "batch_size = 4\n",
    "eval_interval = 1000\n",
    "learning_rate = 1e-3\n",
    "eval_iters = 20\n",
    "\n",
    "@torch.no_grad() # no gradient is computed here\n",
    "def estimate_loss():\n",
    "    \"\"\" Estimate the loss on eval_iters batch of train and val sets.\"\"\"\n",
    "    out = {}\n",
    "    model.eval()\n",
    "    for split in ['train', 'val']:\n",
    "        losses = torch.zeros(eval_iters)\n",
    "        for k in range(eval_iters):\n",
    "            X, Y = get_batch(split)\n",
    "            logits, loss = model(X, Y)\n",
    "            losses[k] = loss.item()\n",
    "        out[split] = losses.mean()\n",
    "    model.train()\n",
    "    return out\n",
    "\n",
    "# re-create the model\n",
    "model = BigramLanguageModel(vocab_size)\n",
    "m = model.to(device)\n",
    "\n",
    "# create a PyTorch optimizer\n",
    "optimizer = torch.optim.AdamW(model.parameters(), lr=learning_rate)\n",
    "\n",
    "for iter in range(max_iters):\n",
    "\n",
    "    # every once in a while evaluate the loss on train and val sets\n",
    "    if iter % eval_interval == 0:\n",
    "        losses = estimate_loss()\n",
    "        print(f\"step {iter}: train loss {losses['train']:.4f}, val loss {losses['val']:.4f}\")\n",
    "\n",
    "    # sample a batch of data\n",
    "    xb, yb = get_batch('train')\n",
    "\n",
    "    # evaluate the loss\n",
    "    logits, loss = m(xb, yb)\n",
    "    optimizer.zero_grad(set_to_none=True)\n",
    "    loss.backward()\n",
    "    optimizer.step()\n"
   ]
  },
  {
   "cell_type": "markdown",
   "id": "512395a0",
   "metadata": {},
   "source": [
    "Once the network has been trained for 100 iterations, we can generate a sequence of characters.  \n",
    "\n",
    "#### Questions:  \n",
    "- What is the effect of training?  \n",
    "- Increase the number of iterations to 1,000 and then to 10,000. Note the obtained loss and the generated sentence. What do you observe?"
   ]
  },
  {
   "cell_type": "code",
   "execution_count": 158,
   "id": "4071b998",
   "metadata": {},
   "outputs": [
    {
     "name": "stdout",
     "output_type": "stream",
     "text": [
      "\n",
      "Nours de fau stux st rlontêts\n",
      "Qus,\n",
      "\n",
      "Untét tale? aitie.\n",
      "Me Sue vabaint EXIless minent, Esprileseunte \n"
     ]
    }
   ],
   "source": [
    "idx = torch.ones((1,1), dtype=torch.long)*3\n",
    "idx = idx.to(device)\n",
    "print (decode(m.generate(idx, max_new_tokens=100)[0].tolist()))"
   ]
  },
  {
   "cell_type": "markdown",
   "id": "c4a2f4af-3210-44af-b75d-5ad0e38692a2",
   "metadata": {},
   "source": [
    "The obtained loss decreases progressively but we reach a 'plateau' at 2.3 approximately once the number of training epochs is greately increased. Nevertheless, we can notice a slight upgrade in the quality of the sentences produced. However, the generated text is still unreadable and doesn't make sense. "
   ]
  },
  {
   "cell_type": "markdown",
   "id": "5dfd33b1",
   "metadata": {},
   "source": [
    "## Single Head Attention  \n",
    "\n",
    "We will now implement the basic attention mechanism. For each pair of words in the sequence, this mechanism combines:  \n",
    "- **Q** (*query*): the information being searched for,  \n",
    "- **K** (*key*): the information retrieved,  \n",
    "- **V** (*value*): a result vector calculated from the attention mechanism.  \n",
    "\n",
    "![single head attention](images/single_head_attention.png)  \n",
    "\n",
    "### Masking  \n",
    "\n",
    "However, since we are using the model to generate sequences, we must not use characters that come after the current character—these are precisely the characters we aim to predict during training. *The future should not be used to predict the future.*  \n",
    "\n",
    "To enforce this constraint, we integrate a **masking matrix** into the process. This matrix ensures that:  \n",
    "- For the first character in the sequence, only that character is available for prediction (no context).  \n",
    "- For the second character, only the first and second characters can be used.  \n",
    "- For the third character, only the first three characters are accessible, and so on.  \n",
    "\n",
    "This results in a **lower triangular matrix**, where each row is normalized (rows sum to 1)."
   ]
  },
  {
   "cell_type": "code",
   "execution_count": 162,
   "id": "d15fbb1d",
   "metadata": {},
   "outputs": [
    {
     "name": "stdout",
     "output_type": "stream",
     "text": [
      "tensor([[1.0000, 0.0000, 0.0000, 0.0000, 0.0000, 0.0000, 0.0000, 0.0000],\n",
      "        [0.5000, 0.5000, 0.0000, 0.0000, 0.0000, 0.0000, 0.0000, 0.0000],\n",
      "        [0.3333, 0.3333, 0.3333, 0.0000, 0.0000, 0.0000, 0.0000, 0.0000],\n",
      "        [0.2500, 0.2500, 0.2500, 0.2500, 0.0000, 0.0000, 0.0000, 0.0000],\n",
      "        [0.2000, 0.2000, 0.2000, 0.2000, 0.2000, 0.0000, 0.0000, 0.0000],\n",
      "        [0.1667, 0.1667, 0.1667, 0.1667, 0.1667, 0.1667, 0.0000, 0.0000],\n",
      "        [0.1429, 0.1429, 0.1429, 0.1429, 0.1429, 0.1429, 0.1429, 0.0000],\n",
      "        [0.1250, 0.1250, 0.1250, 0.1250, 0.1250, 0.1250, 0.1250, 0.1250]])\n"
     ]
    }
   ],
   "source": [
    "T = 8\n",
    "\n",
    "# first version of the constraints with matrix multiplication\n",
    "# create a lower triangular matrix\n",
    "weights0 = torch.tril(torch.ones(T,T))\n",
    "# normalize each row\n",
    "weights0 = weights0 / weights0.sum(1, keepdim=True) \n",
    "print (weights0)"
   ]
  },
  {
   "cell_type": "markdown",
   "id": "1f1eb4a7",
   "metadata": {},
   "source": [
    "The [`softmax`](https://pytorch.org/docs/stable/generated/torch.nn.functional.softmax.html) function provides another way to achieve normalization.  \n",
    "\n",
    "#### Question:  \n",
    "- Verify that applying `softmax` results in the same lower triangular matrix."
   ]
  },
  {
   "cell_type": "code",
   "execution_count": 160,
   "id": "75455f0e",
   "metadata": {},
   "outputs": [
    {
     "name": "stdout",
     "output_type": "stream",
     "text": [
      "tensor([[1.0000, 0.0000, 0.0000, 0.0000, 0.0000, 0.0000, 0.0000, 0.0000],\n",
      "        [0.5000, 0.5000, 0.0000, 0.0000, 0.0000, 0.0000, 0.0000, 0.0000],\n",
      "        [0.3333, 0.3333, 0.3333, 0.0000, 0.0000, 0.0000, 0.0000, 0.0000],\n",
      "        [0.2500, 0.2500, 0.2500, 0.2500, 0.0000, 0.0000, 0.0000, 0.0000],\n",
      "        [0.2000, 0.2000, 0.2000, 0.2000, 0.2000, 0.0000, 0.0000, 0.0000],\n",
      "        [0.1667, 0.1667, 0.1667, 0.1667, 0.1667, 0.1667, 0.0000, 0.0000],\n",
      "        [0.1429, 0.1429, 0.1429, 0.1429, 0.1429, 0.1429, 0.1429, 0.0000],\n",
      "        [0.1250, 0.1250, 0.1250, 0.1250, 0.1250, 0.1250, 0.1250, 0.1250]])\n"
     ]
    }
   ],
   "source": [
    "tril = torch.tril(torch.ones(T,T))\n",
    "weights = torch.tril(torch.ones(T,T))\n",
    "weights = weights.masked_fill(tril== 0, float('-inf'))\n",
    "weights = nn.functional.softmax(weights, dim=-1)\n",
    "print (weights)"
   ]
  },
  {
   "cell_type": "markdown",
   "id": "30f76c8b",
   "metadata": {},
   "source": [
    "### Implementation  \n",
    "\n",
    "We can now implement the attention layer based on the following formula:  \n",
    "\n",
    "![attention_formula](images/attention_formula.png)  \n",
    "\n",
    "This involves computing the **queries (Q)**, **keys (K)**, and **values (V)**, applying the **masking mechanism**, and using the **softmax function** to normalize the attention scores before computing the weighted sum of values."
   ]
  },
  {
   "cell_type": "markdown",
   "id": "02681533",
   "metadata": {},
   "source": [
    "#### Questions:  \n",
    "\n",
    "- Create the **key**, **query**, and **value** layers as linear layers of dimension `C × head_size`.  \n",
    "- Apply these layers to `x`.  \n",
    "- Compute the attention weights:  \n",
    "  ```python\n",
    "  weights = query @ key.transpose(-2, -1)\n",
    "  ```\n",
    "  (Transpose the second and third dimensions of `key` to enable matrix multiplication).  \n",
    "- Apply the **normalization factor** (typically, divide by `sqrt(head_size)`).  \n",
    "- Apply the **triangular mask** and the **softmax** function to `weights`.  \n",
    "- Apply the **value** layer to `x`.  \n",
    "- Compute the final output:  \n",
    "  ```python\n",
    "  out = weights @ value(x)\n",
    "  ```"
   ]
  },
  {
   "cell_type": "code",
   "execution_count": 166,
   "id": "129fe994",
   "metadata": {},
   "outputs": [
    {
     "data": {
      "text/plain": [
       "tensor([[ 8.5782e-02,  1.1529e-01,  6.4239e-01, -5.6665e-01,  2.8930e-01,\n",
       "         -3.9935e-01, -4.3672e-01, -7.5431e-01, -9.1777e-01, -8.6862e-02,\n",
       "         -1.0979e-01, -4.2185e-01, -9.5954e-02,  4.4691e-01,  3.2730e-02,\n",
       "          3.8350e-01],\n",
       "        [-6.1935e-01, -4.8447e-01, -1.4436e-01, -4.8109e-01,  7.8122e-02,\n",
       "         -1.1122e-01, -9.9409e-03,  1.7028e-01,  2.5287e-01,  4.0986e-01,\n",
       "          1.5536e-01, -1.8151e-01, -8.8062e-01,  9.2018e-01, -4.9328e-01,\n",
       "         -4.2080e-01],\n",
       "        [ 1.9587e-02, -1.9120e-02,  2.6615e-01, -2.8456e-01,  2.1989e-01,\n",
       "         -1.9234e-01, -1.2452e-01, -2.3987e-01, -3.3843e-01,  2.7044e-01,\n",
       "         -4.3088e-02, -1.8216e-02, -4.1962e-01,  4.0365e-01, -3.3681e-01,\n",
       "          6.5231e-02],\n",
       "        [-2.2350e-01, -2.1559e-01, -9.8720e-02,  8.4144e-03,  1.3013e-01,\n",
       "         -1.8585e-03,  1.8443e-01,  2.8108e-01,  3.1605e-01,  6.0916e-01,\n",
       "          8.5004e-02,  3.2827e-01, -7.0484e-01,  4.5883e-01, -5.9332e-01,\n",
       "         -2.6247e-01],\n",
       "        [-4.7479e-01, -5.3820e-01, -5.4936e-01, -8.9447e-04, -6.4707e-01,\n",
       "         -2.7275e-01,  9.1385e-01, -6.7916e-02, -2.2522e-01,  6.1104e-01,\n",
       "         -5.2649e-02,  5.7308e-01, -3.4702e-01,  6.3185e-01, -1.1530e-01,\n",
       "         -2.6444e-01],\n",
       "        [-5.8273e-01, -4.4418e-01,  1.2859e-02,  3.6377e-02, -2.5248e-01,\n",
       "         -1.3115e-01,  3.1774e-01,  2.7635e-02,  1.7142e-01,  4.1020e-01,\n",
       "          1.6841e-01,  6.8367e-02,  2.2475e-02,  7.5613e-01,  1.9071e-01,\n",
       "         -1.1029e-01],\n",
       "        [-7.8077e-01, -3.2004e-01, -2.2899e-01,  7.7964e-03, -2.7644e-02,\n",
       "         -1.3489e-01, -1.9785e-01, -4.8941e-02,  2.8622e-01,  4.2064e-01,\n",
       "          2.2022e-01, -1.2910e-01, -2.9275e-01,  6.9234e-01,  6.3252e-02,\n",
       "         -3.2768e-01],\n",
       "        [ 2.7124e-01, -2.7394e-01,  4.3077e-02,  6.8057e-03, -2.6516e-01,\n",
       "          4.1830e-02,  7.4142e-02, -3.0502e-03,  3.2067e-02,  4.0040e-01,\n",
       "         -6.3725e-02, -7.8761e-02,  3.9624e-01,  4.1546e-01,  5.4279e-02,\n",
       "         -6.9534e-02]], grad_fn=<SelectBackward0>)"
      ]
     },
     "execution_count": 166,
     "metadata": {},
     "output_type": "execute_result"
    }
   ],
   "source": [
    "head_size = 16\n",
    "B, T, C = 4, 8, 32\n",
    "x = torch.randn(B, T, C)\n",
    "## YOUR CODE HERE\n",
    "# define the Key layer  \n",
    "key = nn.Linear(C, head_size)\n",
    "# define the Query layer\n",
    "query = nn.Linear(C, head_size)\n",
    "# define the Value layer\n",
    "value = nn.Linear(C, head_size)\n",
    "# apply each layer to the input\n",
    "k =  key(x)\n",
    "q =  query(x)\n",
    "v =  value(x)\n",
    "# compute the normalize product between Q and K \n",
    "weights =   q@k.transpose(-2,-1)\n",
    "# apply the mask (lower triangular matrix)\n",
    "weights = weights.masked_fill(tril== 0, float('-inf'))\n",
    "# apply the softmax\n",
    "weights = nn.functional.softmax(weights, dim=-1)\n",
    "###\n",
    "out  = weights @ value(x) # (B, T, head_size)\n",
    "\n",
    "# print the result\n",
    "weights[0]\n",
    "out[0]"
   ]
  },
  {
   "cell_type": "markdown",
   "id": "db591771",
   "metadata": {},
   "source": [
    "### Questions:  \n",
    "\n",
    "- Copy your code into `gpt_single_head.py`:  \n",
    "  - Define the **key**, **query**, and **value** layers in the **constructor** of the `Head` class.  \n",
    "  - Implement the **computations** in the `forward` function.  \n",
    "- Train the model.  \n",
    "- What are the **training** and **validation** losses?  \n",
    "- Does the generated text appear **better** compared to the previous model?"
   ]
  },
  {
   "cell_type": "markdown",
   "id": "f0bc7815-8bb1-4ba6-bedc-ee14d6e27c11",
   "metadata": {},
   "source": [
    "The output that I had in the terminal is the following :\n",
    "```console\n",
    "0.009989 M parameters\n",
    "step 0: train loss 4.7731, val loss 4.7551\n",
    "step 500: train loss 3.0325, val loss 3.0961\n",
    "step 1000: train loss 2.6888, val loss 2.7515\n",
    "step 1500: train loss 2.4841, val loss 2.6040\n",
    "step 2000: train loss 2.4340, val loss 2.5400\n",
    "step 2500: train loss 2.4039, val loss 2.5043\n",
    "step 3000: train loss 2.3823, val loss 2.4783\n",
    "step 3500: train loss 2.3581, val loss 2.4848\n",
    "step 4000: train loss 2.3558, val loss 2.4519\n",
    "step 4500: train loss 2.3409, val loss 2.4336\n",
    "step 4999: train loss 2.3395, val loss 2.4377\n",
    "\n",
    " emancée vel!\n",
    "L'eux, u velr!\n",
    " tt bre, fone pnori,  me  ssutombenchen'ételsailmese, le ece,\n",
    "Etux, end  ers s on.\n",
    " mbe  voi que  ecfforetrart c l'à luraurr.\n",
    "Seuvimèrère es dommes e es hart ent d  hema, le ven! her.\n",
    "Lèret ndens\n",
    " à  étu antux, a t! L'e voule evil tt des, tan-t se, heutalutentent  à le  cieux,   où achen!\n",
    "Peu ler  flome quin'euraièj'on leu nevracabl'avêdeulre, cosours,\n",
    "L'é;\n",
    "Momisoruvini, meut   âmoure denotachatgll'étadusise qu'à rà brtarverin!\n",
    "NEt et e c suce\n",
    "Vointe, qu à crimmut da\n",
    "```\n",
    "This is with the original number of training epochs. With a lot less training the model seems to have learnt a few words, which is already better than the previous one with 50k epochs."
   ]
  },
  {
   "cell_type": "markdown",
   "id": "c043812e",
   "metadata": {},
   "source": [
    "## Multi-Head Attention  \n",
    "\n",
    "Multi-head attention is simply the parallel computation of multiple **single-head attention** mechanisms. Each **single-head attention** output is concatenated to form the output of the **multi-head attention** module. In the original paper's illustration, the number of heads in the **multi-head attention** is denoted as `h`.  \n",
    "\n",
    "To allow for **weighted combinations** of each single-head attention output, a **linear transformation layer** is added after concatenation.  \n",
    "\n",
    "![multi head attention](images/multi_head_attention.png)  \n",
    "\n",
    "#### Questions:  \n",
    "\n",
    "- In the **constructor**, create a list containing `num_heads` instances of the `Head` module using PyTorch’s [`ModuleList`](https://pytorch.org/docs/stable/generated/torch.nn.ModuleList.html).  \n",
    "- In the `forward` function:  \n",
    "  - Apply each **single-head attention** to the input.  \n",
    "  - Concatenate the results using PyTorch’s [`cat`](https://pytorch.org/docs/stable/generated/torch.cat.html) function."
   ]
  },
  {
   "cell_type": "code",
   "execution_count": 168,
   "id": "5fab8977",
   "metadata": {},
   "outputs": [],
   "source": [
    "class MultiHeadAttention(nn.Module):\n",
    "    \"\"\" multiple heads of self-attention in parallel \"\"\"\n",
    "\n",
    "    def __init__(self, num_heads, head_size):\n",
    "        super().__init__()\n",
    "        ## YOUR CODE HERE\n",
    "        ## list of num_heads modules of type Head\n",
    "        self.heads = nn.ModuleList([Head(head_size) for _ in range(num_heads)])\n",
    "        ###\n",
    "        \n",
    "    def forward(self, x):\n",
    "        ## YOUR CODE HERE\n",
    "        ## apply each head in self.heads to x and concat the results \n",
    "        out = torch.cat([h(x) for h in self.heads], dim=-1)\n",
    "\n",
    "        return out\n"
   ]
  },
  {
   "cell_type": "markdown",
   "id": "56a39989",
   "metadata": {},
   "source": [
    "#### Questions:  \n",
    "\n",
    "1. **Copy** the file `gpt_single_head.py` and rename it as `gpt_multi_head.py`.  \n",
    "2. **Add** the `MultiHeadAttention` module in `gpt_multi_head.py`.  \n",
    "3. At the **beginning of the file**, add a parameter:  \n",
    "   ```python\n",
    "   n_head = 4\n",
    "   ```\n",
    "4. In the `BigramLanguageModel` module, **replace** the `Head` module with `MultiHeadAttention`, using the parameters:  \n",
    "   ```python\n",
    "   num_heads = n_head\n",
    "   head_size = n_embd // n_head\n",
    "   ```\n",
    "   This ensures the total number of parameters remains **the same**.  \n",
    "5. **Retrain the model** and note:  \n",
    "   - The total number of **parameters**  \n",
    "   - The **training** and **validation** losses obtained  \n",
    "\n",
    "**Expected Output Example:**  \n",
    "```\n",
    "0.009893 M parameters  \n",
    "step 4999: train loss 2.1570, val loss 2.1802  \n",
    "```"
   ]
  },
  {
   "cell_type": "markdown",
   "id": "e3dd3315-6cd4-4de9-8d52-65ebad52b15c",
   "metadata": {},
   "source": [
    "I got the following output after running the code for `gpt_multi_head.py` : \n",
    "\n",
    "```console\n",
    "(base) onyxia@jupyter-pytorch-gpu-737671-0:~/work/nlp_td_proj$ python3 gpt_multi_head.py\n",
    "0.009989 M parameters\n",
    "step 0: train loss 4.6645, val loss 4.6758\n",
    "step 500: train loss 2.5816, val loss 2.6818\n",
    "step 1000: train loss 2.3739, val loss 2.4427\n",
    "step 1500: train loss 2.2907, val loss 2.3367\n",
    "step 2000: train loss 2.2554, val loss 2.2921\n",
    "step 2500: train loss 2.2301, val loss 2.2890\n",
    "step 3000: train loss 2.2090, val loss 2.2599\n",
    "step 3500: train loss 2.1846, val loss 2.2424\n",
    "step 4000: train loss 2.1765, val loss 2.1954\n",
    "step 4500: train loss 2.1575, val loss 2.1768\n",
    "step 4999: train loss 2.1482, val loss 2.1700\n",
    "\n",
    "      De vul le pus, ul. le!\n",
    "        crome ponhait morcesstispanchens en la vouse, le ecu,\n",
    "Et ac end fers s'on.\n",
    "\n",
    "EN pâver que feuf,\n",
    "L'erdet ce sont la vrraîvivie et\n",
    "Ques dommes le sargre ent de hert, le vont hortoière madess\n",
    "       Dant fombragrit, l'alcemis: J'hare, au--tus souruiel tâmelarnis homme et ant où achen!\n",
    "Peure en fant; qui me dande pre l'étoura;\n",
    "J'hau d'el et coeil son chirand que,\n",
    "Où soiret lent ves dendez queglles à les piss dr'un; tarves femant et la  suce\n",
    "Voilleus e à crimmuit: \n",
    "```\n",
    "\n",
    "We can see that the output is 'a bit better' compared to the single head attention. Nevertheless, it is still not very good as the majority of words doesn't make sense."
   ]
  },
  {
   "cell_type": "markdown",
   "id": "333d3f27",
   "metadata": {},
   "source": [
    "## Adding a FeedForward Computation Layer  \n",
    "\n",
    "After the **attention layers**, which collect information from the sequence, a **computation layer** is added to combine all the gathered information.  \n",
    "\n",
    "This layer is a simple **Multi-Layer Perceptron (MLP)** with:  \n",
    "- One **hidden layer**,  \n",
    "- A **ReLU non-linearity** using [`ReLU`](https://pytorch.org/docs/stable/generated/torch.nn.ReLU.html).  \n",
    "\n",
    "### Architecture:  \n",
    "\n",
    "<img src=\"images/multi_ff.png\" alt=\"multi feedforward\" width=\"200\">\n"
   ]
  },
  {
   "cell_type": "code",
   "execution_count": null,
   "id": "915f8148",
   "metadata": {},
   "outputs": [],
   "source": [
    "class FeedForward(nn.Module):\n",
    "    \"\"\" a simple MLP with RELU \"\"\"\n",
    "\n",
    "    def __init__(self, n_embd):\n",
    "        super().__init__()\n",
    "        self.net = nn.Sequential(\n",
    "            nn.Linear(n_embd, n_embd),\n",
    "            nn.ReLU(),\n",
    "        )\n",
    "\n",
    "    def forward(self, x):\n",
    "        return self.net(x)"
   ]
  },
  {
   "cell_type": "markdown",
   "id": "f0ca5ef7",
   "metadata": {},
   "source": [
    "#### Questions:  \n",
    "\n",
    "1. **Add** the `FeedForward` module to your `gpt_multi_head.py` file.  \n",
    "2. **Integrate** this `FeedForward` layer **after** the **multi-head attention** module.  \n",
    "3. **Retrain the model** and note:  \n",
    "   - The total **number of parameters**  \n",
    "   - The **training** and **validation** losses obtained  \n",
    "\n",
    "**Expected Output Example:**  \n",
    "```\n",
    "0.010949 M parameters  \n",
    "step 4999: train loss 2.1290, val loss 2.1216  \n",
    "```"
   ]
  },
  {
   "cell_type": "markdown",
   "id": "d31b4bbb-e12c-4f0b-88c6-899b1fa426f9",
   "metadata": {},
   "source": [
    "The output of `gpt_multi_head.py` with the new ffwd is the following : \n",
    "\n",
    "```console\n",
    "\n",
    "(base) onyxia@jupyter-pytorch-gpu-737671-0:~/work/nlp_td_proj$ python3 gpt_multi_head.py\n",
    "0.011045 M parameters\n",
    "step 0: train loss 4.6478, val loss 4.6486\n",
    "step 500: train loss 2.5626, val loss 2.5948\n",
    "step 1000: train loss 2.3796, val loss 2.3993\n",
    "step 1500: train loss 2.2932, val loss 2.3184\n",
    "step 2000: train loss 2.2491, val loss 2.2797\n",
    "step 2500: train loss 2.2108, val loss 2.2440\n",
    "step 3000: train loss 2.1902, val loss 2.2120\n",
    "step 3500: train loss 2.1541, val loss 2.1695\n",
    "step 4000: train loss 2.1421, val loss 2.1503\n",
    "step 4500: train loss 2.1173, val loss 2.1314\n",
    "step 4999: train loss 2.1049, val loss 2.1187\n",
    "\n",
    "      De vul!\n",
    "L'eux, un.\n",
    "Ve!\n",
    "                 Fait morchautisel chent en la vous, et l'un,-Etu de cur,\n",
    "Tons on.\n",
    "\n",
    "\n",
    "De âme peut desfforterchanc l'où uns la.\n",
    "S-TÂt de chies dommes es sargre en ra féqu'auxe vont hont lèstent:-Ou\n",
    "      ·Dant fon a:\n",
    "L'hest le be illet des, au--t ses heut lutent ayais,\n",
    "                     Où l'e en fant; qui mes apère m'est l'épargble pêdeulen, cosous de chire.\n",
    "Eque,\n",
    "Oyistire, où pà-Cais nout quegll'ail,\n",
    "Et l'indre à brons, din!\n",
    "NEt et la cauce\n",
    "Voi-tCorse à crimmut da\n",
    "```\n",
    "\n",
    "We can notice that the training errors are a bit better but we still don't have any sort of sense."
   ]
  },
  {
   "cell_type": "markdown",
   "id": "bc16dfb3",
   "metadata": {},
   "source": [
    "## Stacking Blocks  \n",
    "\n",
    "The network we have built so far represents just **one block** of the final model. Now, we can **stack multiple blocks** of **multi-head attention** to create a **deeper** network.  \n",
    "\n",
    "### Architecture:  \n",
    "![multi feedforward](images/multi_bloc.png)  \n",
    "\n",
    "The following code defines a **block**:  \n"
   ]
  },
  {
   "cell_type": "code",
   "execution_count": null,
   "id": "5fbdecf5",
   "metadata": {},
   "outputs": [],
   "source": [
    "class Block(nn.Module):\n",
    "    \"\"\" A single bloc of multi-head attention \"\"\"\n",
    "\n",
    "    def __init__(self, n_embd, n_head):\n",
    "        super().__init__()\n",
    "        head_size = n_embd // n_head\n",
    "        self.sa = MultiHeadAttention(n_head, head_size)\n",
    "        self.ffwd = FeedForward(n_embd)\n",
    "\n",
    "    def forward(self, x):\n",
    "        x = self.sa(x)\n",
    "        x = self.ffwd(x)\n",
    "        return x"
   ]
  },
  {
   "cell_type": "markdown",
   "id": "3144fff7",
   "metadata": {},
   "source": [
    "#### Questions:  \n",
    "\n",
    "- Add the `Block` module to `gpt_multi_head.py`.  \n",
    "- Modify the `BigramLanguageModel` code to include **three** instances of `Block(n_embd, n_head=4)`, using a [`Sequential`](https://pytorch.org/docs/stable/generated/torch.nn.Sequential.html) container **instead of** `MultiHeadAttention` and `FeedForward`.  \n",
    "- Retrain the model and note:  \n",
    "  - The **number of parameters**  \n",
    "  - The **training** and **validation** losses obtained  \n",
    "\n",
    "**Expected Output Example:**  \n",
    "```\n",
    "0.019205 M parameters  \n",
    "step 4999: train loss 2.2080, val loss 2.2213  \n",
    "```"
   ]
  },
  {
   "cell_type": "markdown",
   "id": "0366853b-1937-43f5-81c2-e4a62f6a5c9c",
   "metadata": {},
   "source": [
    "The output with the three blocks is the following : \n",
    "\n",
    "```console\n",
    "(base) onyxia@jupyter-pytorch-gpu-737671-0:~/work/nlp_td_proj$ python3 gpt_multi_head.py\n",
    "0.019493 M parameters\n",
    "step 0: train loss 4.6347, val loss 4.6468\n",
    "step 500: train loss 3.0830, val loss 3.1087\n",
    "step 1000: train loss 2.8397, val loss 2.8119\n",
    "step 1500: train loss 2.7103, val loss 2.7109\n",
    "step 2000: train loss 2.5893, val loss 2.5923\n",
    "step 2500: train loss 2.5173, val loss 2.5544\n",
    "step 3000: train loss 2.4114, val loss 2.4119\n",
    "step 3500: train loss 2.3485, val loss 2.3573\n",
    "step 4000: train loss 2.3196, val loss 2.3251\n",
    "step 4500: train loss 2.2619, val loss 2.3070\n",
    "step 4999: train loss 2.2307, val loss 2.2796\n",
    "         Anlale eu riul. Ve! fommbr'acre, aunerghe eu cesstis le le lé clar l'aielese ecfîbleux, end fers s'on.\n",
    "\n",
    "\n",
    "D'iiis de che efmor, lart ce soù le pordaîire, de chies dombes e pombhre en ru fhert, le vha! hortre.\n",
    "\n",
    "L'ammes\n",
    "           La ja tart e vés combii ti mas 18\n",
    "--Jes mour;\n",
    "El tâcre\n",
    "La à le je tain combe\n",
    "E de ce cafxent,\n",
    "Àa  que me la fer me l'énevpa;\n",
    "J'étond, le mecx ou sout que le que, soi, mubte hâpo- cis nourcabeglits à 18\n",
    "\n",
    "Quus d'run; tarve.\n",
    "Le ti fete au suce\n",
    "Voit Cosst à canmeut da\n",
    "```\n",
    "The results doesn't seem to be much better and the training was particularly long."
   ]
  },
  {
   "cell_type": "markdown",
   "id": "be02d77a",
   "metadata": {},
   "source": [
    "## Improving Training  \n",
    "\n",
    "If we want to continue increasing the **network size**, we need to incorporate layers that **enhance training stability** and **improve generalization** (reducing overfitting). These layers include:  \n",
    "\n",
    "- **Skip connections** (or **residual connections**)  \n",
    "- **Normalization layers**  \n",
    "- **Dropout**  \n",
    "\n",
    "### Updated Architecture:  \n",
    "\n",
    "<img src=\"images/multi_skip_norm.png\" alt=\"multi feedforward\" width=\"200\">\n",
    "\n",
    "---\n",
    "\n",
    "#### Questions:  \n",
    "\n",
    "1. In the `Block` module, **add a skip connection** by summing the input at each step:  \n",
    "   ```python\n",
    "   x = x + self.sa(self.ln1(x))\n",
    "   x = x + self.ffwd(self.ln2(x))\n",
    "   ```  \n",
    "   \n",
    "2. In the `Block` module, **add two** [`LayerNorm`](https://pytorch.org/docs/stable/generated/torch.nn.LayerNorm.html) layers of size `n_embd`:  \n",
    "   - **Before** the `Multi-Head Attention` layer.  \n",
    "   - **Before** the `FeedForward` layer.  \n",
    "\n",
    "3. **After the sequence of 3 blocks**, add a **LayerNorm** layer of size `n_embd`.  \n",
    "\n",
    "4. Define a variable at the **beginning of the file**:  \n",
    "   ```python\n",
    "   dropout = 0.2\n",
    "   ```\n",
    "   Then add a [`Dropout`](https://pytorch.org/docs/stable/generated/torch.nn.Dropout.html) layer:  \n",
    "   - **After** the `ReLU` activation in `FeedForward`.  \n",
    "   - **After** the `Multi-Head Attention` layer in `MultiHeadAttention`.  \n",
    "   - **After** the `softmax` layer in the single-head attention `Head`.  \n",
    "\n",
    "5. **Retrain the model** and note:  \n",
    "   - The **number of parameters**  \n",
    "   - The **training** and **validation** losses  \n",
    "\n",
    "---\n",
    "\n",
    "**Expected Output Example:**  \n",
    "```\n",
    "0.019653 M parameters  \n",
    "```"
   ]
  },
  {
   "cell_type": "markdown",
   "id": "1c5772ce-959b-469f-a171-66f3c7969fe7",
   "metadata": {},
   "source": [
    "output : \n",
    "\n",
    "0.019941 M parameters\n",
    "step 0: train loss 4.7834, val loss 4.8552"
   ]
  },
  {
   "cell_type": "markdown",
   "id": "d4733a17",
   "metadata": {},
   "source": [
    "## Conclusion  \n",
    "\n",
    "The key components of **GPT-2** are now in place. The next step is to **scale up** the model and train it on a **much larger** dataset. For comparison, the parameters of [GPT-2](https://huggingface.co/transformers/v2.11.0/model_doc/gpt2.html) are:  \n",
    "\n",
    "- **`vocab_size = 50257`** → GPT-2 models **subword tokens**, while we model **characters**. For us, `vocab_size = 100`.  \n",
    "- **`n_positions = 1024`** → The maximum **context size**. For us, it's `block_size = 8`.  \n",
    "- **`n_embd = 768`** → The **embedding dimension**. For us, it's `n_embd = 32`.  \n",
    "- **`n_layer = 12`** → The number of **blocks**. For us, it's `3`.  \n",
    "- **`n_head = 12`** → The number of **multi-head attention layers**. For us, it's `4`.  \n",
    "\n",
    "Overall, **GPT-2** consists of **1.5 billion parameters** and was trained on **8 million web pages**, totaling **40 GB of text**.  \n",
    "\n",
    "---\n",
    "\n",
    "### **Training Results**  \n",
    "```text\n",
    "10.816613 M parameters  \n",
    "step 0: train loss 4.7847, val loss 4.7701  \n",
    "step 4999: train loss 0.2683, val loss 2.1161  \n",
    "time: 31m47.910s   \n",
    "```\n",
    "\n",
    "### **Generated Text Sample:**  \n",
    "\n",
    "```text\n",
    "Le pêcheur où l'homme en peu de Carevante  \n",
    "Sa conter des chosses qu'en ses yoitn!  \n",
    "\n",
    "Ils sont là-hauts parler à leurs ténèbres  \n",
    "A ceux qu'on rêve aux oiseaux des cheveux,  \n",
    "Et celus qu'on tourna jamais sous le front;  \n",
    "Ils se disent tu mêle aux univers.  \n",
    "J'ai vu Jean vu France, potte; petits contempler,  \n",
    "Et petié calme au milibre et versait,  \n",
    "M'éblouissant, emportant, écoute, ingorancessible,  \n",
    "On meurt s'efferayait.....--Pas cont âme parle en Apparia!  \n",
    "```"
   ]
  },
  {
   "cell_type": "markdown",
   "id": "9498389b",
   "metadata": {},
   "source": []
  }
 ],
 "metadata": {
  "kernelspec": {
   "display_name": "Python 3 (ipykernel)",
   "language": "python",
   "name": "python3"
  },
  "language_info": {
   "codemirror_mode": {
    "name": "ipython",
    "version": 3
   },
   "file_extension": ".py",
   "mimetype": "text/x-python",
   "name": "python",
   "nbconvert_exporter": "python",
   "pygments_lexer": "ipython3",
   "version": "3.12.9"
  }
 },
 "nbformat": 4,
 "nbformat_minor": 5
}
